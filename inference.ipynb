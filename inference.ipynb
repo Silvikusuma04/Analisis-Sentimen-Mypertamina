{
  "nbformat": 4,
  "nbformat_minor": 0,
  "metadata": {
    "colab": {
      "provenance": []
    },
    "kernelspec": {
      "name": "python3",
      "display_name": "Python 3"
    },
    "language_info": {
      "name": "python"
    }
  },
  "cells": [
    {
      "cell_type": "code",
      "execution_count": 1,
      "metadata": {
        "id": "BHnUY72vWdhA"
      },
      "outputs": [],
      "source": [
        "import numpy as np\n",
        "import joblib\n",
        "from tensorflow.keras.models import load_model\n",
        "from tensorflow.keras.preprocessing.sequence import pad_sequences"
      ]
    },
    {
      "cell_type": "code",
      "source": [
        "from google.colab import drive\n",
        "drive.mount('/content/drive')"
      ],
      "metadata": {
        "colab": {
          "base_uri": "https://localhost:8080/"
        },
        "id": "MTMNaA53bb44",
        "outputId": "f51feca8-e003-46ca-8af5-6fb2f22a739c"
      },
      "execution_count": 2,
      "outputs": [
        {
          "output_type": "stream",
          "name": "stdout",
          "text": [
            "Mounted at /content/drive\n"
          ]
        }
      ]
    },
    {
      "cell_type": "code",
      "source": [
        "base_dir = \"/content/drive/My Drive/sentimen_pertamina/\"\n",
        "model = load_model(base_dir + \"model_lstm_tuned.keras\")\n",
        "tokenizer = joblib.load(base_dir + \"tokenizer_lstm.pkl\")\n",
        "params = joblib.load(base_dir + \"lstm_params.pkl\")"
      ],
      "metadata": {
        "colab": {
          "base_uri": "https://localhost:8080/"
        },
        "id": "HjOHbxyNbgMl",
        "outputId": "ef25fe79-5dd3-49e3-b315-f88f48c93593"
      },
      "execution_count": 3,
      "outputs": [
        {
          "output_type": "stream",
          "name": "stderr",
          "text": [
            "/usr/local/lib/python3.11/dist-packages/keras/src/saving/saving_lib.py:757: UserWarning: Skipping variable loading for optimizer 'rmsprop', because it has 13 variables whereas the saved optimizer has 2 variables. \n",
            "  saveable.load_own_variables(weights_store.get(inner_path))\n"
          ]
        }
      ]
    },
    {
      "cell_type": "code",
      "source": [
        "max_len = params[\"max_len\"]"
      ],
      "metadata": {
        "id": "H0pBqut_btHk"
      },
      "execution_count": 4,
      "outputs": []
    },
    {
      "cell_type": "code",
      "source": [
        "def predict_sentiment(text):\n",
        "    seq = tokenizer.texts_to_sequences([text])\n",
        "    padded = pad_sequences(seq, maxlen=max_len)\n",
        "    pred = model.predict(padded)\n",
        "    label = np.argmax(pred, axis=1)[0]\n",
        "    labels = ['negatif', 'netral', 'positif']\n",
        "    return labels[label]"
      ],
      "metadata": {
        "id": "1VARyZFRbzJp"
      },
      "execution_count": 7,
      "outputs": []
    },
    {
      "cell_type": "code",
      "source": [
        "text_sample = \"Aplikasi sulit dipake error\"\n",
        "sentiment = predict_sentiment(text_sample)\n",
        "print(f\"Teks: {text_sample}\\nPrediksi Sentimen: {sentiment}\")"
      ],
      "metadata": {
        "colab": {
          "base_uri": "https://localhost:8080/"
        },
        "id": "wZzuifwMb1Gt",
        "outputId": "b558ca08-cbfa-4628-b88a-650ace0a6646"
      },
      "execution_count": 8,
      "outputs": [
        {
          "output_type": "stream",
          "name": "stdout",
          "text": [
            "\u001b[1m1/1\u001b[0m \u001b[32m━━━━━━━━━━━━━━━━━━━━\u001b[0m\u001b[37m\u001b[0m \u001b[1m0s\u001b[0m 39ms/step\n",
            "Teks: Aplikasi sulit dipake error\n",
            "Prediksi Sentimen: negatif\n"
          ]
        }
      ]
    },
    {
      "cell_type": "code",
      "source": [
        "text_sample = \"mudah tinggal foto barcode di spbu\"\n",
        "sentiment = predict_sentiment(text_sample)\n",
        "print(f\"Teks: {text_sample}\\nPrediksi Sentimen: {sentiment}\")"
      ],
      "metadata": {
        "colab": {
          "base_uri": "https://localhost:8080/"
        },
        "id": "X8skU6IDcCwo",
        "outputId": "9ba65c58-d07e-4e37-cd8a-6b186e3dc04b"
      },
      "execution_count": 32,
      "outputs": [
        {
          "output_type": "stream",
          "name": "stdout",
          "text": [
            "\u001b[1m1/1\u001b[0m \u001b[32m━━━━━━━━━━━━━━━━━━━━\u001b[0m\u001b[37m\u001b[0m \u001b[1m0s\u001b[0m 36ms/step\n",
            "Teks: mudah tinggal foto barcode di spbu\n",
            "Prediksi Sentimen: positif\n"
          ]
        }
      ]
    },
    {
      "cell_type": "code",
      "source": [
        "text_sample = \"so so tapi sering error aplikasinya\"\n",
        "sentiment = predict_sentiment(text_sample)\n",
        "print(f\"Teks: {text_sample}\\nPrediksi Sentimen: {sentiment}\")"
      ],
      "metadata": {
        "colab": {
          "base_uri": "https://localhost:8080/"
        },
        "id": "Ec2_bmPzcHM9",
        "outputId": "5ef43b8d-53c6-44f4-8c5c-298dbdb536f8"
      },
      "execution_count": 31,
      "outputs": [
        {
          "output_type": "stream",
          "name": "stdout",
          "text": [
            "\u001b[1m1/1\u001b[0m \u001b[32m━━━━━━━━━━━━━━━━━━━━\u001b[0m\u001b[37m\u001b[0m \u001b[1m0s\u001b[0m 38ms/step\n",
            "Teks: so so tapi sering error aplikasinya\n",
            "Prediksi Sentimen: netral\n"
          ]
        }
      ]
    }
  ]
}