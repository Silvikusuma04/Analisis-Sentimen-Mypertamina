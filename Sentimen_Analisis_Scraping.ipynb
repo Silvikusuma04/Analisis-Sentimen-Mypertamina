{
  "nbformat": 4,
  "nbformat_minor": 0,
  "metadata": {
    "colab": {
      "provenance": [],
      "gpuType": "T4"
    },
    "kernelspec": {
      "name": "python3",
      "display_name": "Python 3"
    },
    "language_info": {
      "name": "python"
    },
    "accelerator": "GPU"
  },
  "cells": [
    {
      "cell_type": "markdown",
      "source": [
        "# Install and Import Library"
      ],
      "metadata": {
        "id": "v9eMBGGeinai"
      }
    },
    {
      "cell_type": "code",
      "source": [
        "!pip install google-play-scraper"
      ],
      "metadata": {
        "colab": {
          "base_uri": "https://localhost:8080/"
        },
        "id": "kkBC1bCciSml",
        "outputId": "956e44f4-9309-4a67-92d3-eddff9ec5160"
      },
      "execution_count": null,
      "outputs": [
        {
          "output_type": "stream",
          "name": "stdout",
          "text": [
            "Collecting google-play-scraper\n",
            "  Downloading google_play_scraper-1.2.7-py3-none-any.whl.metadata (50 kB)\n",
            "\u001b[?25l     \u001b[90m━━━━━━━━━━━━━━━━━━━━━━━━━━━━━━━━━━━━━━━━\u001b[0m \u001b[32m0.0/50.2 kB\u001b[0m \u001b[31m?\u001b[0m eta \u001b[36m-:--:--\u001b[0m\r\u001b[2K     \u001b[90m━━━━━━━━━━━━━━━━━━━━━━━━━━━━━━━━━━━━━━━━\u001b[0m \u001b[32m50.2/50.2 kB\u001b[0m \u001b[31m1.7 MB/s\u001b[0m eta \u001b[36m0:00:00\u001b[0m\n",
            "\u001b[?25hDownloading google_play_scraper-1.2.7-py3-none-any.whl (28 kB)\n",
            "Installing collected packages: google-play-scraper\n",
            "Successfully installed google-play-scraper-1.2.7\n"
          ]
        }
      ]
    },
    {
      "cell_type": "markdown",
      "source": [
        "# Scraping Dataset"
      ],
      "metadata": {
        "id": "_sTz4FavkEPa"
      }
    },
    {
      "cell_type": "code",
      "source": [
        "from google_play_scraper import reviews, Sort\n",
        "import csv\n",
        "\n",
        "result, continuation_token = reviews(\n",
        "    'com.dafturn.mypertamina',\n",
        "    lang='id',                 # Bahasa Indonesia\n",
        "    country='id',              # Negara Indonesia\n",
        "    sort=Sort.MOST_RELEVANT,   # Sorting berdasarkan relevansi\n",
        "    count=20000,               # Batas jumlah ulasan\n",
        "    filter_score_with=None     # Tanpa filter khusus berdasarkan rating\n",
        ")"
      ],
      "metadata": {
        "id": "ZHMX6O2rigDU"
      },
      "execution_count": null,
      "outputs": []
    },
    {
      "cell_type": "code",
      "source": [
        "with open('ulasan_pertamina.csv', mode='w', newline='', encoding='utf-8') as file:\n",
        "    writer = csv.writer(file)\n",
        "    writer.writerow(['Review'])\n",
        "    for review in result:\n",
        "        writer.writerow([review['content']])\n",
        "print(f\"Total data berhasil diambil: {len(result)}\")"
      ],
      "metadata": {
        "colab": {
          "base_uri": "https://localhost:8080/"
        },
        "id": "4JDvKO_LbZlV",
        "outputId": "2f3f07fb-4e90-4db3-e90b-c7c38fe6b671"
      },
      "execution_count": null,
      "outputs": [
        {
          "output_type": "stream",
          "name": "stdout",
          "text": [
            "Total data berhasil diambil: 20000\n"
          ]
        }
      ]
    }
  ]
}